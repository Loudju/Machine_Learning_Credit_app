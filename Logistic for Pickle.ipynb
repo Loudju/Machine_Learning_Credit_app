{
 "cells": [
  {
   "cell_type": "code",
   "execution_count": null,
   "id": "0a80b5fb",
   "metadata": {},
   "outputs": [],
   "source": [
    "import matplotlib.pyplot as plt\n",
    "import numpy as np\n",
    "import pandas as pd"
   ]
  },
  {
   "cell_type": "code",
   "execution_count": null,
   "id": "6908f08c",
   "metadata": {},
   "outputs": [],
   "source": [
    "clean_train_df =  pd.read_csv(\"Resources/df_train.csv\")\n",
    "cleam_test_df = pd.read_csv(\"Resources/df_.csv\")\n"
   ]
  },
  {
   "cell_type": "code",
   "execution_count": null,
   "id": "fb7e316b",
   "metadata": {},
   "outputs": [],
   "source": [
    "clean_train_df.head()"
   ]
  },
  {
   "cell_type": "code",
   "execution_count": null,
   "id": "df53625d",
   "metadata": {},
   "outputs": [],
   "source": [
    "clean_test_df.head()"
   ]
  },
  {
   "cell_type": "code",
   "execution_count": null,
   "id": "82391124",
   "metadata": {},
   "outputs": [],
   "source": [
    "clean_train_df2 = clean_df.rename(columns = {\"Loan Status\":\"Target\"})\n",
    "\n",
    "clean_train_df2"
   ]
  },
  {
   "cell_type": "code",
   "execution_count": null,
   "id": "d4bb2122",
   "metadata": {},
   "outputs": [],
   "source": [
    "clean_test_df2 = clean_df.rename(columns = {\"Loan Status\":\"Target\"})\n",
    "\n",
    "clean_test_df2"
   ]
  },
  {
   "cell_type": "code",
   "execution_count": null,
   "id": "b66d6760",
   "metadata": {},
   "outputs": [],
   "source": [
    "clean_train_df2.describe()"
   ]
  },
  {
   "cell_type": "code",
   "execution_count": null,
   "id": "f42d8bf6",
   "metadata": {},
   "outputs": [],
   "source": [
    "clean_test_df2.describe()"
   ]
  },
  {
   "cell_type": "code",
   "execution_count": null,
   "id": "f0443525",
   "metadata": {},
   "outputs": [],
   "source": [
    "from sklearn.ensemble import RandomForestClassifier"
   ]
  },
  {
   "cell_type": "code",
   "execution_count": null,
   "id": "4fef4483",
   "metadata": {},
   "outputs": [],
   "source": [
    "# Train a Random Forest Classifier model and print the model score\n",
    "\n",
    "rfc = RandomForestClassifier(random_state=42)\n",
    "rfc.fit(X_train, y_train)\n",
    "train_score = rfc.score(X_train, y_train)\n",
    "test_score = rfc.score(X_test, y_test)\n",
    "print(f\"Train Score: {train_score:.3f}\")\n",
    "print(f\"Test Score: {test_score:.3f}\")"
   ]
  },
  {
   "cell_type": "code",
   "execution_count": null,
   "id": "4ca5bd6c",
   "metadata": {},
   "outputs": [],
   "source": [
    "# Train the Logistic Regression model on the unscaled data and print the model score\n",
    "\n",
    "classifier = LogisticRegression(max_iter=10000)\n",
    "classifier.fit(X_train, y_train)\n",
    "train_score = classifier.score(X_train, y_train)\n",
    "test_score = classifier.score(X_test, y_test)\n",
    "print(f\"Train Score: {train_score:.3f}\")\n",
    "print(f\"Test Score: {test_score:.3f}\")"
   ]
  },
  {
   "cell_type": "code",
   "execution_count": null,
   "id": "8547bfb0",
   "metadata": {},
   "outputs": [],
   "source": [
    "from sklearn.datasets import make_blobs\n",
    "X, y = make_blobs(centers=2, random_state=42)\n",
    "print(f\"Labels: {y[:10]}\")\n",
    "print(f\"Data: {X[:10]}\")"
   ]
  },
  {
   "cell_type": "code",
   "execution_count": null,
   "id": "aea64d66",
   "metadata": {},
   "outputs": [],
   "source": [
    "from sklearn.model_selection import train_test_split\n",
    "\n",
    "X_train, X_test, y_train, y_test = train_test_split(X, y, random_state=42)"
   ]
  },
  {
   "cell_type": "code",
   "execution_count": null,
   "id": "b0de0a58",
   "metadata": {},
   "outputs": [],
   "source": [
    "from sklearn.linear_model import LogisticRegression\n",
    "\n",
    "model = LogisticRegression()"
   ]
  },
  {
   "cell_type": "code",
   "execution_count": null,
   "id": "2ac02366",
   "metadata": {},
   "outputs": [],
   "source": [
    "model.fit(X_train, y_train)"
   ]
  },
  {
   "cell_type": "code",
   "execution_count": null,
   "id": "cb3a5553",
   "metadata": {},
   "outputs": [],
   "source": [
    "from sklearn.metrics import mean_squared_error, mean_absolute_error, r2_score\n",
    "\n",
    "predicted = model.predict(X_test)\n",
    "\n",
    "# Score the predictions with mse and r2\n",
    "mse = mean_squared_error(y_test, predicted)\n",
    "mae = mean_absolute_error(y_test, predicted)\n",
    "r2 = r2_score(y_test, predicted)\n",
    "\n",
    "print(f\"mean squared error (MSE): {mse}\")\n",
    "print(f\"mean absolute error (MAE): {mae}\")\n",
    "print(f\"R-squared (R2): {r2}\")"
   ]
  },
  {
   "cell_type": "code",
   "execution_count": null,
   "id": "93a84c36",
   "metadata": {},
   "outputs": [],
   "source": [
    "import pickle\n",
    "filename = 'data/housing.sav'\n",
    "pickle.dump(model, open(filename, 'wb'))"
   ]
  }
 ],
 "metadata": {
  "kernelspec": {
   "display_name": "Python 3",
   "language": "python",
   "name": "python3"
  },
  "language_info": {
   "codemirror_mode": {
    "name": "ipython",
    "version": 3
   },
   "file_extension": ".py",
   "mimetype": "text/x-python",
   "name": "python",
   "nbconvert_exporter": "python",
   "pygments_lexer": "ipython3",
   "version": "3.8.8"
  }
 },
 "nbformat": 4,
 "nbformat_minor": 5
}
